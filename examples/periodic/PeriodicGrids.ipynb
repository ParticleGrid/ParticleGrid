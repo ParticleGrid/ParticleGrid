{
 "cells": [
  {
   "cell_type": "code",
   "execution_count": 1,
   "metadata": {},
   "outputs": [],
   "source": [
    "from Periodic import CrystalParams\n",
    "import numpy as np\n",
    "import k3d"
   ]
  },
  {
   "cell_type": "markdown",
   "metadata": {},
   "source": [
    "### Create a CrystalParams\n",
    "\n",
    "The necessary information required to generated a crystal is encapsulated in the `CrystalParams` class. The required inputs to create a class is as follows:\n",
    "\n",
    "- A : (float) lattice constant length a  \n",
    "- B : (float) lattice constant length b\n",
    "- C : (float) lattice constant length c\n",
    "- alpha : (float) lattice constant angle alpha (in radians)\n",
    "- beta : (float) lattice constant angle beta (in radians)\n",
    "- gamma : (float) lattice constant angle gamma (in radians)\n",
    "- coords : (NDarray: N, 4) Fractional coordinates of atoms with associated channels concatenated at the end\n",
    "- element : (NDarray: N,) Atomic number of of each atom in order\n",
    "\n",
    "When constructing the objet, ParticleGrid will internally calculate the appropriate transformation matrix and expaned the atom list to account of boundary atoms"
   ]
  },
  {
   "cell_type": "code",
   "execution_count": 2,
   "metadata": {},
   "outputs": [],
   "source": [
    "coords = np.array(\n",
    "        [\n",
    "            [0, 0, 0, 0],\n",
    "            [0, 0.5, 0.5, 0],\n",
    "            [0.5, 0, 0.5, 0],\n",
    "            [0.5, 0.5, 0, 0],\n",
    "            [0.5, 0.5, 0.5, 1],\n",
    "        ]\n",
    "    )\n",
    "elements = np.array([0, 0, 0, 0, 1])\n",
    "params = CrystalParams(\n",
    "    A=10,\n",
    "    B=10,\n",
    "    C=10,\n",
    "    alpha=np.pi / 2,\n",
    "    beta=np.pi / 2,\n",
    "    gamma=np.pi / 2,\n",
    "    coords=coords,\n",
    "    elements=elements,\n",
    ")"
   ]
  },
  {
   "cell_type": "code",
   "execution_count": 3,
   "metadata": {},
   "outputs": [
    {
     "name": "stdout",
     "output_type": "stream",
     "text": [
      "Lattice parameters: \n",
      "A:\t10.000000\n",
      "B:\t10.000000\n",
      "C:\t10.000000 \n",
      "Alpha:\t1.570796\n",
      "Beta:\t1.570796\n",
      "Gamma:\t1.570796\n",
      "\n"
     ]
    }
   ],
   "source": [
    "# To String Method\n",
    "print(params)"
   ]
  },
  {
   "cell_type": "code",
   "execution_count": 4,
   "metadata": {},
   "outputs": [
    {
     "name": "stdout",
     "output_type": "stream",
     "text": [
      "[[ 0.  0.  0.  0.]\n",
      " [ 0.  0. 10.  0.]\n",
      " [ 0. 10.  0.  0.]\n",
      " [ 0. 10. 10.  0.]\n",
      " [10.  0.  0.  0.]\n",
      " [10.  0. 10.  0.]\n",
      " [10. 10.  0.  0.]\n",
      " [10. 10. 10.  0.]\n",
      " [ 0.  5.  5.  0.]\n",
      " [10.  5.  5.  0.]\n",
      " [ 5.  0.  5.  0.]\n",
      " [ 5. 10.  5.  0.]\n",
      " [ 5.  5.  0.  0.]\n",
      " [ 5.  5. 10.  0.]\n",
      " [ 5.  5.  5.  1.]]\n"
     ]
    }
   ],
   "source": [
    "# Print the expanded coordinates\n",
    "print(params.get_cartesian_coords())"
   ]
  },
  {
   "cell_type": "code",
   "execution_count": 5,
   "metadata": {},
   "outputs": [
    {
     "name": "stdout",
     "output_type": "stream",
     "text": [
      "[0 0 0 0 0 0 0 0 0 0 0 0 0 0 1]\n"
     ]
    }
   ],
   "source": [
    "# Print the atom elements\n",
    "print(params.get_elements())"
   ]
  },
  {
   "cell_type": "code",
   "execution_count": 6,
   "metadata": {},
   "outputs": [
    {
     "name": "stdout",
     "output_type": "stream",
     "text": [
      "[[10.  0.  0.]\n",
      " [ 0. 10.  0.]\n",
      " [ 0.  0. 10.]]\n"
     ]
    }
   ],
   "source": [
    "print(params.get_transform_matrix())"
   ]
  },
  {
   "cell_type": "code",
   "execution_count": 7,
   "metadata": {},
   "outputs": [],
   "source": [
    "energy_grid = params.LJ_Grid(32)"
   ]
  },
  {
   "cell_type": "code",
   "execution_count": 36,
   "metadata": {},
   "outputs": [],
   "source": [
    "capped_grid = np.copy(energy_grid)\n",
    "min_val = -5000\n",
    "max_val = 5000\n",
    "capped_grid[capped_grid > max_val] = max_val\n",
    "capped_grid[capped_grid < min_val] = min_val \n",
    "capped_grid = (2 / (max_val-min_val))*(capped_grid - min_val) - 1"
   ]
  },
  {
   "cell_type": "code",
   "execution_count": 37,
   "metadata": {},
   "outputs": [
    {
     "data": {
      "text/plain": [
       "(-0.01671946, 0.032500505)"
      ]
     },
     "execution_count": 37,
     "metadata": {},
     "output_type": "execute_result"
    }
   ],
   "source": [
    "capped_grid.min(), capped_grid.max()"
   ]
  },
  {
   "cell_type": "code",
   "execution_count": 38,
   "metadata": {},
   "outputs": [
    {
     "data": {
      "application/vnd.jupyter.widget-view+json": {
       "model_id": "220d4db40dba49b8974f4d413d5887f8",
       "version_major": 2,
       "version_minor": 0
      },
      "text/plain": [
       "Output()"
      ]
     },
     "metadata": {},
     "output_type": "display_data"
    }
   ],
   "source": [
    "plot = k3d.plot()\n",
    "\n",
    "# for level in [-1, -2, -3, -6]: \n",
    "plt_marching = k3d.marching_cubes(capped_grid[0], level=-0.9,\n",
    "                                  color=0x0e2763,\n",
    "                                  opacity=0.2,\n",
    "                                  xmin=0, xmax=32,\n",
    "                                  ymin=0, ymax=32,\n",
    "                                  zmin=0, zmax=32,\n",
    "                                  compression_level=9,\n",
    "                                  flat_shading=False,\n",
    "                                  translation=[4,4,4])\n",
    "    \n",
    "    \n",
    "plot += plt_marching\n",
    "\n",
    "plot.display()"
   ]
  },
  {
   "cell_type": "code",
   "execution_count": 17,
   "metadata": {},
   "outputs": [],
   "source": [
    "prob_grid = params.Probability_Grid(32, 1)"
   ]
  },
  {
   "cell_type": "code",
   "execution_count": 19,
   "metadata": {},
   "outputs": [
    {
     "data": {
      "application/vnd.jupyter.widget-view+json": {
       "model_id": "c43bf7a26271422fae0cccd37cd11257",
       "version_major": 2,
       "version_minor": 0
      },
      "text/plain": [
       "Output()"
      ]
     },
     "metadata": {},
     "output_type": "display_data"
    }
   ],
   "source": [
    "plot = k3d.plot()\n",
    "\n",
    "# updates level to change size of isosurface\n",
    "plt_marching = k3d.marching_cubes(prob_grid[0], level=0.0002,\n",
    "                                  color=0x0e2763,\n",
    "                                  opacity=0.2,\n",
    "                                  xmin=0, xmax=32,\n",
    "                                  ymin=0, ymax=32,\n",
    "                                  zmin=0, zmax=32,\n",
    "                                  compression_level=9,\n",
    "                                  flat_shading=False,\n",
    "                                  translation=[4,4,4])\n",
    "plot += plt_marching\n",
    "\n",
    "plt_marching = k3d.marching_cubes(prob_grid[1], level=0.0001,\n",
    "                                  color=0x620e30,\n",
    "                                  opacity=0.2,\n",
    "                                  xmin=0, xmax=32,\n",
    "                                  ymin=0, ymax=32,\n",
    "                                  zmin=0, zmax=32,\n",
    "                                  compression_level=9,\n",
    "                                  flat_shading=False,\n",
    "                                  translation=[4,4,4])\n",
    "plot += plt_marching\n",
    "\n",
    "plt_marching = k3d.marching_cubes(capped_grid[0], level=-0.9,\n",
    "                                  color=0x0e2763,\n",
    "                                  opacity=0.2,\n",
    "                                  xmin=0, xmax=32,\n",
    "                                  ymin=0, ymax=32,\n",
    "                                  zmin=0, zmax=32,\n",
    "                                  compression_level=9,\n",
    "                                  flat_shading=False,\n",
    "                                  translation=[4,4,4])\n",
    "plot.display()"
   ]
  },
  {
   "cell_type": "code",
   "execution_count": null,
   "metadata": {},
   "outputs": [],
   "source": []
  }
 ],
 "metadata": {
  "kernelspec": {
   "display_name": "Python 3 (ipykernel)",
   "language": "python",
   "name": "python3"
  },
  "language_info": {
   "codemirror_mode": {
    "name": "ipython",
    "version": 3
   },
   "file_extension": ".py",
   "mimetype": "text/x-python",
   "name": "python",
   "nbconvert_exporter": "python",
   "pygments_lexer": "ipython3",
   "version": "3.9.17"
  }
 },
 "nbformat": 4,
 "nbformat_minor": 4
}
